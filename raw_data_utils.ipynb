{
 "cells": [
  {
   "cell_type": "markdown",
   "metadata": {},
   "source": [
    "# Check Raw Data Schema"
   ]
  },
  {
   "cell_type": "code",
   "execution_count": 10,
   "metadata": {},
   "outputs": [
    {
     "name": "stdout",
     "output_type": "stream",
     "text": [
      "Schema: {'version': '6.3', 'type': 'record', 'doc': 'Session file for Empatica devices.', 'name': 'empatica.format.avro.Session', 'fields': [{'doc': 'Version of the AVRO file schema.', 'name': 'schemaVersion', 'type': {'type': 'record', 'name': 'empatica.format.avro.Version', 'fields': [{'doc': 'Major version.', 'name': 'major', 'type': 'int'}, {'doc': 'Minor version.', 'name': 'minor', 'type': 'int'}, {'doc': 'Patch version.', 'name': 'patch', 'type': 'int'}]}}, {'doc': 'Version of the device firmware.', 'name': 'fwVersion', 'type': 'empatica.format.avro.Version'}, {'doc': 'Version of the device hardware.', 'name': 'hwVersion', 'type': 'empatica.format.avro.Version'}, {'doc': 'Version of the processing algorithm.', 'name': 'algoVersion', 'type': 'empatica.format.avro.Version'}, {'default': 0, 'doc': 'Delta [s] from UTC [s] time at the location of the participant.', 'name': 'timezone', 'type': 'int'}, {'doc': 'Information of the participant enrolled.', 'name': 'enrollment', 'type': {'type': 'record', 'name': 'empatica.format.avro.Enrollment', 'fields': [{'doc': 'Participant identifier.', 'name': 'participantID', 'type': 'string'}, {'doc': 'Site identifier.', 'name': 'siteID', 'type': 'string'}, {'doc': 'Study identifier.', 'name': 'studyID', 'type': 'string'}, {'doc': 'Organization identifier.', 'name': 'organizationID', 'type': 'string'}]}}, {'default': '', 'doc': 'Serial Number of the device.', 'name': 'deviceSn', 'type': 'string'}, {'doc': 'Device model.', 'name': 'deviceModel', 'type': {'default': 'EMBRACEPLUS', 'type': 'enum', 'name': 'empatica.format.avro.DeviceModel', 'symbols': ['EMBRACEPLUS']}}, {'doc': 'High-frequency data recorded from sensors.', 'name': 'rawData', 'type': {'type': 'record', 'name': 'empatica.format.avro.RawData', 'fields': [{'doc': 'Data from 3-axis accelerometer sensor with ADC counts as unit. Use physical and digital dimensions to convert in [gravitational g].', 'name': 'accelerometer', 'type': {'default': [], 'type': 'record', 'doc': 'Info and values characterizing the Inertial Measurement Unit (accelerometer and gyroscope).', 'name': 'empatica.format.avro.InertialMeasurement', 'fields': [{'doc': \"Timestamp in UTC [µs] of this signal's start.\", 'name': 'timestampStart', 'type': 'long'}, {'doc': 'Sampling frequency [Hz] of the sensor.', 'name': 'samplingFrequency', 'type': 'float'}, {'doc': 'Parameters to convert ADC readings into physical units.', 'name': 'imuParams', 'type': {'default': [], 'type': 'record', 'name': 'empatica.format.avro.ImuParams', 'fields': [{'doc': 'Minimum physical value that can be recorded.', 'name': 'physicalMin', 'type': 'int'}, {'doc': 'Maximum physical value that can be recorded.', 'name': 'physicalMax', 'type': 'int'}, {'doc': 'Minimum extreme value that ADC can produce.', 'name': 'digitalMin', 'type': 'int'}, {'doc': 'Maximum extreme value that ADC can produce.', 'name': 'digitalMax', 'type': 'int'}]}}, {'doc': 'Acceleration/Gyration in the x-axis [ADC counts].', 'name': 'x', 'type': {'type': 'array', 'items': 'int'}}, {'doc': 'Acceleration/Gyration in the y-axis [ADC counts].', 'name': 'y', 'type': {'type': 'array', 'items': 'int'}}, {'doc': 'Acceleration/Gyration in the z-axis [ADC counts].', 'name': 'z', 'type': {'type': 'array', 'items': 'int'}}]}}, {'doc': 'Data from 3-axis gyroscope sensor with ADC counts as unit. Use physical and digital dimensions to convert in [rad/s].', 'name': 'gyroscope', 'type': 'empatica.format.avro.InertialMeasurement'}, {'doc': 'Data from the electrodermal activity sensor expressed as microsiemens [µS]. Uses a galvanic skin response sensor.', 'name': 'eda', 'type': {'default': [], 'type': 'record', 'name': 'empatica.format.avro.Eda', 'fields': [{'doc': \"Timestamp in UTC [µs] of this signal's start.\", 'name': 'timestampStart', 'type': 'long'}, {'doc': 'Sampling frequency [Hz] of the sensor.', 'name': 'samplingFrequency', 'type': 'float'}, {'doc': 'Electrodermal activity [µS].', 'name': 'values', 'type': {'type': 'array', 'items': 'float'}}]}}, {'doc': 'Data from temperature sensor expressed degrees on the Celsius [°C] scale.', 'name': 'temperature', 'type': {'default': [], 'type': 'record', 'name': 'empatica.format.avro.Temperature', 'fields': [{'doc': \"Timestamp in UTC [µs] of this signal's start.\", 'name': 'timestampStart', 'type': 'long'}, {'doc': 'Sampling frequency [Hz] of the sensor.', 'name': 'samplingFrequency', 'type': 'float'}, {'doc': 'Temperature [°C].', 'name': 'values', 'type': {'type': 'array', 'items': 'float'}}]}}, {'doc': 'Event tags corresponding to a physical button press on the device.', 'name': 'tags', 'type': {'default': [], 'type': 'record', 'name': 'empatica.format.avro.Tags', 'fields': [{'doc': 'Timestamps in UTC [µs] of the event marks.', 'name': 'tagsTimeMicros', 'type': {'type': 'array', 'items': 'long'}}]}}, {'doc': 'Blood Volume Pulse from photoplethysmograph.', 'name': 'bvp', 'type': {'default': [], 'type': 'record', 'name': 'empatica.format.avro.Bvp', 'fields': [{'doc': \"Timestamp in UTC [µs] of this processed signal's start.\", 'name': 'timestampStart', 'type': 'long'}, {'doc': 'Sampling frequency [Hz] of the sensor.', 'name': 'samplingFrequency', 'type': 'float'}, {'doc': 'Light absorption [nW].', 'name': 'values', 'type': {'type': 'array', 'items': 'float'}}]}}, {'doc': 'Timestamps of the systolic peaks in the PPG signal.', 'name': 'systolicPeaks', 'type': {'default': [], 'type': 'record', 'name': 'empatica.format.avro.SystolicPeaks', 'fields': [{'doc': \"Timestamps in UTC [nano seconds] of systolic peaks' positions.\", 'name': 'peaksTimeNanos', 'type': {'type': 'array', 'items': 'long'}}]}}, {'default': {}, 'doc': 'Counter of foot steps.', 'name': 'steps', 'type': {'default': [], 'type': 'record', 'name': 'empatica.format.avro.Steps', 'fields': [{'doc': \"Timestamp in UTC [µs] of this signal's start.\", 'name': 'timestampStart', 'type': 'long'}, {'doc': 'Sampling frequency [Hz] of the sensor.', 'name': 'samplingFrequency', 'type': 'float'}, {'doc': 'Number of foot steps.', 'name': 'values', 'type': {'type': 'array', 'items': 'int'}}]}}]}}]}\n",
      "                          schemaVersion  \\\n",
      "0  {'major': 6, 'minor': 3, 'patch': 4}   \n",
      "\n",
      "                               fwVersion  \\\n",
      "0  {'major': 4, 'minor': 24, 'patch': 3}   \n",
      "\n",
      "                              hwVersion                           algoVersion  \\\n",
      "0  {'major': 6, 'minor': 0, 'patch': 2}  {'major': 9, 'minor': 0, 'patch': 2}   \n",
      "\n",
      "   timezone                                         enrollment    deviceSn  \\\n",
      "0    -18000  {'participantID': '13', 'siteID': '1', 'studyI...  3YK3K1523J   \n",
      "\n",
      "   deviceModel                                            rawData  \n",
      "0  EMBRACEPLUS  {'accelerometer': {'timestampStart': 170992255...  \n"
     ]
    }
   ],
   "source": [
    "import fastavro\n",
    "import pandas as pd\n",
    "\n",
    "# Path to your Avro file\n",
    "avro_file_path = '/Users/sjtok/misophoniaAR/1-1-13_1709922553.avro'\n",
    "\n",
    "# Initialize an empty list to collect records\n",
    "records = []\n",
    "\n",
    "# Open the Avro file and create a reader\n",
    "with open(avro_file_path, 'rb') as f:\n",
    "    avro_reader = fastavro.reader(f)\n",
    "    \n",
    "    # Optionally print the schema of the Avro file\n",
    "    print(\"Schema:\", avro_reader.writer_schema)\n",
    "    \n",
    "    # Iterate over records and add them to the list\n",
    "    for record in avro_reader:\n",
    "        records.append(record)\n",
    "\n",
    "# Convert the list of records into a pandas DataFrame\n",
    "df = pd.DataFrame(records)\n",
    "\n",
    "# Now you can work with the DataFrame as needed, for example, print the first few rows\n",
    "print(df.head())\n"
   ]
  },
  {
   "cell_type": "code",
   "execution_count": 5,
   "metadata": {},
   "outputs": [
    {
     "name": "stdout",
     "output_type": "stream",
     "text": [
      "No accelerometer data available\n",
      "   accelerometer.timestampStart  accelerometer.samplingFrequency  \\\n",
      "0              1709922553262413                         64.00071   \n",
      "\n",
      "   accelerometer.imuParams.physicalMin  accelerometer.imuParams.physicalMax  \\\n",
      "0                                  -16                                   16   \n",
      "\n",
      "   accelerometer.imuParams.digitalMin  accelerometer.imuParams.digitalMax  \\\n",
      "0                              -32768                               32768   \n",
      "\n",
      "                                     accelerometer.x  \\\n",
      "0  [-544, -518, -540, -564, -554, -537, -513, -49...   \n",
      "\n",
      "                                     accelerometer.y  \\\n",
      "0  [430, 468, 442, 532, 498, 516, 479, 455, 448, ...   \n",
      "\n",
      "                                     accelerometer.z  \\\n",
      "0  [1914, 1920, 1887, 1928, 1909, 1918, 1949, 192...   \n",
      "\n",
      "   gyroscope.timestampStart  ...  temperature.samplingFrequency  \\\n",
      "0                         0  ...                       0.999998   \n",
      "\n",
      "                                  temperature.values  tags.tagsTimeMicros  \\\n",
      "0  [26.578125, 26.6796875, 26.71875, 26.703125, 2...                   []   \n",
      "\n",
      "   bvp.timestampStart  bvp.samplingFrequency  \\\n",
      "0    1709922553250663                   64.0   \n",
      "\n",
      "                                          bvp.values  \\\n",
      "0  [0.0, 0.0001533031463623047, 0.001368731725960...   \n",
      "\n",
      "                        systolicPeaks.peaksTimeNanos steps.timestampStart  \\\n",
      "0  [1709922553246787000, 1709922553777046164, 170...     1709922558251182   \n",
      "\n",
      "   steps.samplingFrequency                                       steps.values  \n",
      "0                      0.2  [0, 5, 5, 0, 7, 0, 0, 0, 0, 0, 0, 0, 0, 0, 0, ...  \n",
      "\n",
      "[1 rows x 32 columns]\n"
     ]
    }
   ],
   "source": [
    "# Accelerometer\n",
    "import fastavro\n",
    "import pandas as pd\n",
    "\n",
    "# Path to your Avro file\n",
    "avro_file_path = '/Users/sjtok/misophoniaAR/1-1-13_1709922553.avro'\n",
    "\n",
    "records = []\n",
    "\n",
    "# Open the Avro file and create a reader\n",
    "with open(avro_file_path, 'rb') as f:\n",
    "    avro_reader = fastavro.reader(f)\n",
    "    \n",
    "    # Iterate over records and add them to the list\n",
    "    for record in avro_reader:\n",
    "        records.append(record)\n",
    "\n",
    "# If the DataFrame is initialized\n",
    "if records:\n",
    "    df = pd.DataFrame(records)\n",
    "    \n",
    "    # Expand the 'rawData' nested dictionary into separate columns\n",
    "    raw_data = pd.json_normalize(df['rawData'])\n",
    "\n",
    "    # Further normalization can be done for deeper nested structures like accelerometer\n",
    "    # This assumes there is at least one record and accelerometer data exists\n",
    "    if not raw_data.empty and 'accelerometer' in raw_data.columns:\n",
    "        accelerometer_data = pd.json_normalize(raw_data['accelerometer'][0])\n",
    "        print(accelerometer_data.head())\n",
    "    else:\n",
    "        print(\"No accelerometer data available\")\n",
    "\n",
    "    # Print first few rows of the expanded raw data\n",
    "    print(raw_data.head())\n",
    "else:\n",
    "    print(\"No records found in the Avro file.\")\n"
   ]
  },
  {
   "cell_type": "code",
   "execution_count": 15,
   "metadata": {},
   "outputs": [
    {
     "name": "stdout",
     "output_type": "stream",
     "text": [
      "Schema: {'version': '6.3', 'type': 'record', 'doc': 'Session file for Empatica devices.', 'name': 'empatica.format.avro.Session', 'fields': [{'doc': 'Version of the AVRO file schema.', 'name': 'schemaVersion', 'type': {'type': 'record', 'name': 'empatica.format.avro.Version', 'fields': [{'doc': 'Major version.', 'name': 'major', 'type': 'int'}, {'doc': 'Minor version.', 'name': 'minor', 'type': 'int'}, {'doc': 'Patch version.', 'name': 'patch', 'type': 'int'}]}}, {'doc': 'Version of the device firmware.', 'name': 'fwVersion', 'type': 'empatica.format.avro.Version'}, {'doc': 'Version of the device hardware.', 'name': 'hwVersion', 'type': 'empatica.format.avro.Version'}, {'doc': 'Version of the processing algorithm.', 'name': 'algoVersion', 'type': 'empatica.format.avro.Version'}, {'default': 0, 'doc': 'Delta [s] from UTC [s] time at the location of the participant.', 'name': 'timezone', 'type': 'int'}, {'doc': 'Information of the participant enrolled.', 'name': 'enrollment', 'type': {'type': 'record', 'name': 'empatica.format.avro.Enrollment', 'fields': [{'doc': 'Participant identifier.', 'name': 'participantID', 'type': 'string'}, {'doc': 'Site identifier.', 'name': 'siteID', 'type': 'string'}, {'doc': 'Study identifier.', 'name': 'studyID', 'type': 'string'}, {'doc': 'Organization identifier.', 'name': 'organizationID', 'type': 'string'}]}}, {'default': '', 'doc': 'Serial Number of the device.', 'name': 'deviceSn', 'type': 'string'}, {'doc': 'Device model.', 'name': 'deviceModel', 'type': {'default': 'EMBRACEPLUS', 'type': 'enum', 'name': 'empatica.format.avro.DeviceModel', 'symbols': ['EMBRACEPLUS']}}, {'doc': 'High-frequency data recorded from sensors.', 'name': 'rawData', 'type': {'type': 'record', 'name': 'empatica.format.avro.RawData', 'fields': [{'doc': 'Data from 3-axis accelerometer sensor with ADC counts as unit. Use physical and digital dimensions to convert in [gravitational g].', 'name': 'accelerometer', 'type': {'default': [], 'type': 'record', 'doc': 'Info and values characterizing the Inertial Measurement Unit (accelerometer and gyroscope).', 'name': 'empatica.format.avro.InertialMeasurement', 'fields': [{'doc': \"Timestamp in UTC [µs] of this signal's start.\", 'name': 'timestampStart', 'type': 'long'}, {'doc': 'Sampling frequency [Hz] of the sensor.', 'name': 'samplingFrequency', 'type': 'float'}, {'doc': 'Parameters to convert ADC readings into physical units.', 'name': 'imuParams', 'type': {'default': [], 'type': 'record', 'name': 'empatica.format.avro.ImuParams', 'fields': [{'doc': 'Minimum physical value that can be recorded.', 'name': 'physicalMin', 'type': 'int'}, {'doc': 'Maximum physical value that can be recorded.', 'name': 'physicalMax', 'type': 'int'}, {'doc': 'Minimum extreme value that ADC can produce.', 'name': 'digitalMin', 'type': 'int'}, {'doc': 'Maximum extreme value that ADC can produce.', 'name': 'digitalMax', 'type': 'int'}]}}, {'doc': 'Acceleration/Gyration in the x-axis [ADC counts].', 'name': 'x', 'type': {'type': 'array', 'items': 'int'}}, {'doc': 'Acceleration/Gyration in the y-axis [ADC counts].', 'name': 'y', 'type': {'type': 'array', 'items': 'int'}}, {'doc': 'Acceleration/Gyration in the z-axis [ADC counts].', 'name': 'z', 'type': {'type': 'array', 'items': 'int'}}]}}, {'doc': 'Data from 3-axis gyroscope sensor with ADC counts as unit. Use physical and digital dimensions to convert in [rad/s].', 'name': 'gyroscope', 'type': 'empatica.format.avro.InertialMeasurement'}, {'doc': 'Data from the electrodermal activity sensor expressed as microsiemens [µS]. Uses a galvanic skin response sensor.', 'name': 'eda', 'type': {'default': [], 'type': 'record', 'name': 'empatica.format.avro.Eda', 'fields': [{'doc': \"Timestamp in UTC [µs] of this signal's start.\", 'name': 'timestampStart', 'type': 'long'}, {'doc': 'Sampling frequency [Hz] of the sensor.', 'name': 'samplingFrequency', 'type': 'float'}, {'doc': 'Electrodermal activity [µS].', 'name': 'values', 'type': {'type': 'array', 'items': 'float'}}]}}, {'doc': 'Data from temperature sensor expressed degrees on the Celsius [°C] scale.', 'name': 'temperature', 'type': {'default': [], 'type': 'record', 'name': 'empatica.format.avro.Temperature', 'fields': [{'doc': \"Timestamp in UTC [µs] of this signal's start.\", 'name': 'timestampStart', 'type': 'long'}, {'doc': 'Sampling frequency [Hz] of the sensor.', 'name': 'samplingFrequency', 'type': 'float'}, {'doc': 'Temperature [°C].', 'name': 'values', 'type': {'type': 'array', 'items': 'float'}}]}}, {'doc': 'Event tags corresponding to a physical button press on the device.', 'name': 'tags', 'type': {'default': [], 'type': 'record', 'name': 'empatica.format.avro.Tags', 'fields': [{'doc': 'Timestamps in UTC [µs] of the event marks.', 'name': 'tagsTimeMicros', 'type': {'type': 'array', 'items': 'long'}}]}}, {'doc': 'Blood Volume Pulse from photoplethysmograph.', 'name': 'bvp', 'type': {'default': [], 'type': 'record', 'name': 'empatica.format.avro.Bvp', 'fields': [{'doc': \"Timestamp in UTC [µs] of this processed signal's start.\", 'name': 'timestampStart', 'type': 'long'}, {'doc': 'Sampling frequency [Hz] of the sensor.', 'name': 'samplingFrequency', 'type': 'float'}, {'doc': 'Light absorption [nW].', 'name': 'values', 'type': {'type': 'array', 'items': 'float'}}]}}, {'doc': 'Timestamps of the systolic peaks in the PPG signal.', 'name': 'systolicPeaks', 'type': {'default': [], 'type': 'record', 'name': 'empatica.format.avro.SystolicPeaks', 'fields': [{'doc': \"Timestamps in UTC [nano seconds] of systolic peaks' positions.\", 'name': 'peaksTimeNanos', 'type': {'type': 'array', 'items': 'long'}}]}}, {'default': {}, 'doc': 'Counter of foot steps.', 'name': 'steps', 'type': {'default': [], 'type': 'record', 'name': 'empatica.format.avro.Steps', 'fields': [{'doc': \"Timestamp in UTC [µs] of this signal's start.\", 'name': 'timestampStart', 'type': 'long'}, {'doc': 'Sampling frequency [Hz] of the sensor.', 'name': 'samplingFrequency', 'type': 'float'}, {'doc': 'Number of foot steps.', 'name': 'values', 'type': {'type': 'array', 'items': 'int'}}]}}]}}]}\n",
      "Keys in 'rawData': dict_keys(['accelerometer', 'gyroscope', 'eda', 'temperature', 'tags', 'bvp', 'systolicPeaks', 'steps'])\n",
      "Sub-keys for accelerometer: dict_keys(['timestampStart', 'samplingFrequency', 'imuParams', 'x', 'y', 'z'])\n",
      "Sub-keys for gyroscope: dict_keys(['timestampStart', 'samplingFrequency', 'imuParams', 'x', 'y', 'z'])\n",
      "Sub-keys for eda: dict_keys(['timestampStart', 'samplingFrequency', 'values'])\n",
      "Sub-keys for temperature: dict_keys(['timestampStart', 'samplingFrequency', 'values'])\n",
      "Sub-keys for tags: dict_keys(['tagsTimeMicros'])\n",
      "Sub-keys for bvp: dict_keys(['timestampStart', 'samplingFrequency', 'values'])\n",
      "Sub-keys for systolicPeaks: dict_keys(['peaksTimeNanos'])\n",
      "Sub-keys for steps: dict_keys(['timestampStart', 'samplingFrequency', 'values'])\n"
     ]
    }
   ],
   "source": [
    "# Checking the schema for the wearable sensors\n",
    "\n",
    "import fastavro\n",
    "import pandas as pd\n",
    "\n",
    "# Path to your Avro file\n",
    "avro_file_path = '/Users/sjtok/misophoniaAR/1-1-13_1709922553.avro'\n",
    "\n",
    "records = []\n",
    "\n",
    "# Open the Avro file and create a reader\n",
    "with open(avro_file_path, 'rb') as f:\n",
    "    avro_reader = fastavro.reader(f)\n",
    "    print(\"Schema:\", avro_reader.writer_schema)\n",
    "    \n",
    "    # Iterate over records and add them to the list\n",
    "    for record in avro_reader:\n",
    "        records.append(record)\n",
    "\n",
    "# Check if any records were read\n",
    "if records:\n",
    "    # Print keys and sub-keys for 'rawData' of the first record that contains it\n",
    "    if 'rawData' in records[0]:\n",
    "        raw_data = records[0]['rawData']\n",
    "        print(\"Keys in 'rawData':\", raw_data.keys())\n",
    "        for key in raw_data.keys():\n",
    "            if isinstance(raw_data[key], dict):\n",
    "                print(f\"Sub-keys for {key}:\", raw_data[key].keys())\n",
    "            else:\n",
    "                print(f\"Data type for {key}:\", type(raw_data[key]))\n",
    "else:\n",
    "    print(\"No records found in the Avro file.\")\n"
   ]
  }
 ],
 "metadata": {
  "kernelspec": {
   "display_name": "pyvhr",
   "language": "python",
   "name": "python3"
  },
  "language_info": {
   "codemirror_mode": {
    "name": "ipython",
    "version": 3
   },
   "file_extension": ".py",
   "mimetype": "text/x-python",
   "name": "python",
   "nbconvert_exporter": "python",
   "pygments_lexer": "ipython3",
   "version": "3.9.7"
  }
 },
 "nbformat": 4,
 "nbformat_minor": 2
}
